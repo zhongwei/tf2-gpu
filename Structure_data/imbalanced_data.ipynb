{
 "cells": [
  {
   "cell_type": "code",
   "execution_count": 1,
   "metadata": {},
   "outputs": [],
   "source": [
    "from __future__ import absolute_import, division, print_function, unicode_literals"
   ]
  },
  {
   "cell_type": "code",
   "execution_count": 2,
   "metadata": {},
   "outputs": [],
   "source": [
    "import tensorflow as tf\n",
    "from tensorflow import keras\n",
    "\n",
    "import matplotlib.pyplot as plt\n",
    "import numpy as np\n",
    "import pandas as pd\n",
    "from sklearn.metrics import confusion_matrix\n",
    "from sklearn.model_selection import train_test_split\n",
    "from sklearn.preprocessing import StandardScaler\n",
    "from imblearn.over_sampling import SMOTE"
   ]
  },
  {
   "cell_type": "code",
   "execution_count": 3,
   "metadata": {},
   "outputs": [
    {
     "name": "stdout",
     "output_type": "stream",
     "text": [
      "Name: /physical_device:GPU:0   Type: GPU\n"
     ]
    }
   ],
   "source": [
    "gpus = tf.config.experimental.list_physical_devices('GPU')\n",
    "\n",
    "for gpu in gpus:\n",
    "    print(\"Name:\", gpu.name, \"  Type:\", gpu.device_type)\n",
    "\n",
    "tf.config.experimental.set_virtual_device_configuration(gpus[0], [tf.config.experimental.VirtualDeviceConfiguration(memory_limit=2048)])"
   ]
  },
  {
   "cell_type": "code",
   "execution_count": 4,
   "metadata": {},
   "outputs": [
    {
     "data": {
      "text/html": [
       "<div>\n",
       "<style scoped>\n",
       "    .dataframe tbody tr th:only-of-type {\n",
       "        vertical-align: middle;\n",
       "    }\n",
       "\n",
       "    .dataframe tbody tr th {\n",
       "        vertical-align: top;\n",
       "    }\n",
       "\n",
       "    .dataframe thead th {\n",
       "        text-align: right;\n",
       "    }\n",
       "</style>\n",
       "<table border=\"1\" class=\"dataframe\">\n",
       "  <thead>\n",
       "    <tr style=\"text-align: right;\">\n",
       "      <th></th>\n",
       "      <th>Time</th>\n",
       "      <th>V1</th>\n",
       "      <th>V2</th>\n",
       "      <th>V3</th>\n",
       "      <th>V4</th>\n",
       "      <th>V5</th>\n",
       "      <th>V6</th>\n",
       "      <th>V7</th>\n",
       "      <th>V8</th>\n",
       "      <th>V9</th>\n",
       "      <th>...</th>\n",
       "      <th>V21</th>\n",
       "      <th>V22</th>\n",
       "      <th>V23</th>\n",
       "      <th>V24</th>\n",
       "      <th>V25</th>\n",
       "      <th>V26</th>\n",
       "      <th>V27</th>\n",
       "      <th>V28</th>\n",
       "      <th>Amount</th>\n",
       "      <th>Class</th>\n",
       "    </tr>\n",
       "  </thead>\n",
       "  <tbody>\n",
       "    <tr>\n",
       "      <td>0</td>\n",
       "      <td>0.0</td>\n",
       "      <td>-1.359807</td>\n",
       "      <td>-0.072781</td>\n",
       "      <td>2.536347</td>\n",
       "      <td>1.378155</td>\n",
       "      <td>-0.338321</td>\n",
       "      <td>0.462388</td>\n",
       "      <td>0.239599</td>\n",
       "      <td>0.098698</td>\n",
       "      <td>0.363787</td>\n",
       "      <td>...</td>\n",
       "      <td>-0.018307</td>\n",
       "      <td>0.277838</td>\n",
       "      <td>-0.110474</td>\n",
       "      <td>0.066928</td>\n",
       "      <td>0.128539</td>\n",
       "      <td>-0.189115</td>\n",
       "      <td>0.133558</td>\n",
       "      <td>-0.021053</td>\n",
       "      <td>149.62</td>\n",
       "      <td>0</td>\n",
       "    </tr>\n",
       "    <tr>\n",
       "      <td>1</td>\n",
       "      <td>0.0</td>\n",
       "      <td>1.191857</td>\n",
       "      <td>0.266151</td>\n",
       "      <td>0.166480</td>\n",
       "      <td>0.448154</td>\n",
       "      <td>0.060018</td>\n",
       "      <td>-0.082361</td>\n",
       "      <td>-0.078803</td>\n",
       "      <td>0.085102</td>\n",
       "      <td>-0.255425</td>\n",
       "      <td>...</td>\n",
       "      <td>-0.225775</td>\n",
       "      <td>-0.638672</td>\n",
       "      <td>0.101288</td>\n",
       "      <td>-0.339846</td>\n",
       "      <td>0.167170</td>\n",
       "      <td>0.125895</td>\n",
       "      <td>-0.008983</td>\n",
       "      <td>0.014724</td>\n",
       "      <td>2.69</td>\n",
       "      <td>0</td>\n",
       "    </tr>\n",
       "    <tr>\n",
       "      <td>2</td>\n",
       "      <td>1.0</td>\n",
       "      <td>-1.358354</td>\n",
       "      <td>-1.340163</td>\n",
       "      <td>1.773209</td>\n",
       "      <td>0.379780</td>\n",
       "      <td>-0.503198</td>\n",
       "      <td>1.800499</td>\n",
       "      <td>0.791461</td>\n",
       "      <td>0.247676</td>\n",
       "      <td>-1.514654</td>\n",
       "      <td>...</td>\n",
       "      <td>0.247998</td>\n",
       "      <td>0.771679</td>\n",
       "      <td>0.909412</td>\n",
       "      <td>-0.689281</td>\n",
       "      <td>-0.327642</td>\n",
       "      <td>-0.139097</td>\n",
       "      <td>-0.055353</td>\n",
       "      <td>-0.059752</td>\n",
       "      <td>378.66</td>\n",
       "      <td>0</td>\n",
       "    </tr>\n",
       "    <tr>\n",
       "      <td>3</td>\n",
       "      <td>1.0</td>\n",
       "      <td>-0.966272</td>\n",
       "      <td>-0.185226</td>\n",
       "      <td>1.792993</td>\n",
       "      <td>-0.863291</td>\n",
       "      <td>-0.010309</td>\n",
       "      <td>1.247203</td>\n",
       "      <td>0.237609</td>\n",
       "      <td>0.377436</td>\n",
       "      <td>-1.387024</td>\n",
       "      <td>...</td>\n",
       "      <td>-0.108300</td>\n",
       "      <td>0.005274</td>\n",
       "      <td>-0.190321</td>\n",
       "      <td>-1.175575</td>\n",
       "      <td>0.647376</td>\n",
       "      <td>-0.221929</td>\n",
       "      <td>0.062723</td>\n",
       "      <td>0.061458</td>\n",
       "      <td>123.50</td>\n",
       "      <td>0</td>\n",
       "    </tr>\n",
       "    <tr>\n",
       "      <td>4</td>\n",
       "      <td>2.0</td>\n",
       "      <td>-1.158233</td>\n",
       "      <td>0.877737</td>\n",
       "      <td>1.548718</td>\n",
       "      <td>0.403034</td>\n",
       "      <td>-0.407193</td>\n",
       "      <td>0.095921</td>\n",
       "      <td>0.592941</td>\n",
       "      <td>-0.270533</td>\n",
       "      <td>0.817739</td>\n",
       "      <td>...</td>\n",
       "      <td>-0.009431</td>\n",
       "      <td>0.798278</td>\n",
       "      <td>-0.137458</td>\n",
       "      <td>0.141267</td>\n",
       "      <td>-0.206010</td>\n",
       "      <td>0.502292</td>\n",
       "      <td>0.219422</td>\n",
       "      <td>0.215153</td>\n",
       "      <td>69.99</td>\n",
       "      <td>0</td>\n",
       "    </tr>\n",
       "  </tbody>\n",
       "</table>\n",
       "<p>5 rows × 31 columns</p>\n",
       "</div>"
      ],
      "text/plain": [
       "   Time        V1        V2        V3        V4        V5        V6        V7  \\\n",
       "0   0.0 -1.359807 -0.072781  2.536347  1.378155 -0.338321  0.462388  0.239599   \n",
       "1   0.0  1.191857  0.266151  0.166480  0.448154  0.060018 -0.082361 -0.078803   \n",
       "2   1.0 -1.358354 -1.340163  1.773209  0.379780 -0.503198  1.800499  0.791461   \n",
       "3   1.0 -0.966272 -0.185226  1.792993 -0.863291 -0.010309  1.247203  0.237609   \n",
       "4   2.0 -1.158233  0.877737  1.548718  0.403034 -0.407193  0.095921  0.592941   \n",
       "\n",
       "         V8        V9  ...       V21       V22       V23       V24       V25  \\\n",
       "0  0.098698  0.363787  ... -0.018307  0.277838 -0.110474  0.066928  0.128539   \n",
       "1  0.085102 -0.255425  ... -0.225775 -0.638672  0.101288 -0.339846  0.167170   \n",
       "2  0.247676 -1.514654  ...  0.247998  0.771679  0.909412 -0.689281 -0.327642   \n",
       "3  0.377436 -1.387024  ... -0.108300  0.005274 -0.190321 -1.175575  0.647376   \n",
       "4 -0.270533  0.817739  ... -0.009431  0.798278 -0.137458  0.141267 -0.206010   \n",
       "\n",
       "        V26       V27       V28  Amount  Class  \n",
       "0 -0.189115  0.133558 -0.021053  149.62      0  \n",
       "1  0.125895 -0.008983  0.014724    2.69      0  \n",
       "2 -0.139097 -0.055353 -0.059752  378.66      0  \n",
       "3 -0.221929  0.062723  0.061458  123.50      0  \n",
       "4  0.502292  0.219422  0.215153   69.99      0  \n",
       "\n",
       "[5 rows x 31 columns]"
      ]
     },
     "execution_count": 4,
     "metadata": {},
     "output_type": "execute_result"
    }
   ],
   "source": [
    "raw_df = pd.read_csv('https://storage.googleapis.com/download.tensorflow.org/data/creditcard.csv')\n",
    "raw_df.head()"
   ]
  },
  {
   "cell_type": "code",
   "execution_count": 5,
   "metadata": {},
   "outputs": [
    {
     "name": "stdout",
     "output_type": "stream",
     "text": [
      "Training labels shape: (182276,)\n",
      "Validation labels shape: (45569,)\n",
      "Test labels shape: (56962,)\n",
      "Training features shape: (182276, 30)\n",
      "Validation features shape: (45569, 30)\n",
      "Test features shape: (56962, 30)\n"
     ]
    }
   ],
   "source": [
    "# Use a utility from sklearn to split and shuffle our dataset.\n",
    "train_df, test_df = train_test_split(raw_df, test_size=0.2)\n",
    "train_df, val_df = train_test_split(train_df, test_size=0.2)\n",
    "\n",
    "# Form np arrays of labels and features.\n",
    "train_labels = np.array(train_df.pop('Class'))\n",
    "val_labels = np.array(val_df.pop('Class'))\n",
    "test_labels = np.array(test_df.pop('Class'))\n",
    "\n",
    "train_features = np.array(train_df)\n",
    "val_features = np.array(val_df)\n",
    "test_features = np.array(test_df)\n",
    "\n",
    "# Normalize the input features using the sklearn StandardScaler.\n",
    "# This will set the mean to 0 and standard deviation to 1.\n",
    "scaler = StandardScaler()\n",
    "train_features = scaler.fit_transform(train_features)\n",
    "val_features = scaler.transform(val_features)\n",
    "test_features = scaler.transform(test_features)\n",
    "\n",
    "print('Training labels shape:', train_labels.shape)\n",
    "print('Validation labels shape:', val_labels.shape)\n",
    "print('Test labels shape:', test_labels.shape)\n",
    "\n",
    "print('Training features shape:', train_features.shape)\n",
    "print('Validation features shape:', val_features.shape)\n",
    "print('Test features shape:', test_features.shape)"
   ]
  },
  {
   "cell_type": "code",
   "execution_count": 6,
   "metadata": {},
   "outputs": [
    {
     "name": "stdout",
     "output_type": "stream",
     "text": [
      "305 positive samples out of 182276 training samples (0.17% of total)\n"
     ]
    }
   ],
   "source": [
    "neg, pos = np.bincount(train_labels)\n",
    "total = neg + pos\n",
    "print('{} positive samples out of {} training samples ({:.2f}% of total)'.format(\n",
    "    pos, total, 100 * pos / total))"
   ]
  },
  {
   "cell_type": "code",
   "execution_count": 7,
   "metadata": {},
   "outputs": [],
   "source": [
    "def make_model():\n",
    "  model = keras.Sequential([\n",
    "      keras.layers.Dense(256, activation='relu',\n",
    "                         input_shape=(train_features.shape[-1],)),\n",
    "      keras.layers.Dense(256, activation='relu'),\n",
    "      keras.layers.Dropout(0.3),\n",
    "      keras.layers.Dense(256, activation='relu'),\n",
    "      keras.layers.Dropout(0.3),\n",
    "      keras.layers.Dense(1, activation='sigmoid'),\n",
    "  ])\n",
    "\n",
    "  metrics = [\n",
    "      keras.metrics.Accuracy(name='accuracy'),\n",
    "      keras.metrics.TruePositives(name='tp'),\n",
    "      keras.metrics.FalsePositives(name='fp'),\n",
    "      keras.metrics.TrueNegatives(name='tn'),\n",
    "      keras.metrics.FalseNegatives(name='fn'),\n",
    "      keras.metrics.Precision(name='precision'),\n",
    "      keras.metrics.Recall(name='recall'),\n",
    "      keras.metrics.AUC(name='auc')\n",
    "  ]\n",
    "\n",
    "  model.compile(\n",
    "      optimizer='adam',\n",
    "      loss='binary_crossentropy',\n",
    "      metrics=metrics)\n",
    "  \n",
    "  return model"
   ]
  },
  {
   "cell_type": "code",
   "execution_count": 8,
   "metadata": {},
   "outputs": [
    {
     "name": "stdout",
     "output_type": "stream",
     "text": [
      "Train on 182276 samples, validate on 45569 samples\n",
      "Epoch 1/10\n",
      "182276/182276 [==============================] - 3s 16us/sample - loss: 0.0445 - accuracy: 0.0263 - tp: 4.0000 - fp: 2092.0000 - tn: 179879.0000 - fn: 301.0000 - precision: 0.0019 - recall: 0.0131 - auc: 0.6965 - val_loss: 0.0069 - val_accuracy: 0.0143 - val_tp: 18.0000 - val_fp: 3.0000 - val_tn: 45486.0000 - val_fn: 62.0000 - val_precision: 0.8571 - val_recall: 0.2250 - val_auc: 0.8603\n",
      "Epoch 2/10\n",
      "182276/182276 [==============================] - 1s 5us/sample - loss: 0.0037 - accuracy: 0.0198 - tp: 183.0000 - fp: 32.0000 - tn: 181939.0000 - fn: 122.0000 - precision: 0.8512 - recall: 0.6000 - auc: 0.9313 - val_loss: 0.0060 - val_accuracy: 0.0161 - val_tp: 54.0000 - val_fp: 12.0000 - val_tn: 45477.0000 - val_fn: 26.0000 - val_precision: 0.8182 - val_recall: 0.6750 - val_auc: 0.8856\n",
      "Epoch 3/10\n",
      "182276/182276 [==============================] - 1s 4us/sample - loss: 0.0029 - accuracy: 0.0269 - tp: 241.0000 - fp: 41.0000 - tn: 181930.0000 - fn: 64.0000 - precision: 0.8546 - recall: 0.7902 - auc: 0.9532 - val_loss: 0.0060 - val_accuracy: 0.0282 - val_tp: 54.0000 - val_fp: 12.0000 - val_tn: 45477.0000 - val_fn: 26.0000 - val_precision: 0.8182 - val_recall: 0.6750 - val_auc: 0.8868\n",
      "Epoch 4/10\n",
      "182276/182276 [==============================] - 1s 4us/sample - loss: 0.0026 - accuracy: 0.0381 - tp: 239.0000 - fp: 39.0000 - tn: 181932.0000 - fn: 66.0000 - precision: 0.8597 - recall: 0.7836 - auc: 0.9600 - val_loss: 0.0057 - val_accuracy: 0.0298 - val_tp: 54.0000 - val_fp: 11.0000 - val_tn: 45478.0000 - val_fn: 26.0000 - val_precision: 0.8308 - val_recall: 0.6750 - val_auc: 0.9049\n",
      "Epoch 5/10\n",
      "182276/182276 [==============================] - 1s 4us/sample - loss: 0.0023 - accuracy: 0.0508 - tp: 244.0000 - fp: 36.0000 - tn: 181935.0000 - fn: 61.0000 - precision: 0.8714 - recall: 0.8000 - auc: 0.9666 - val_loss: 0.0060 - val_accuracy: 0.0483 - val_tp: 55.0000 - val_fp: 12.0000 - val_tn: 45477.0000 - val_fn: 25.0000 - val_precision: 0.8209 - val_recall: 0.6875 - val_auc: 0.8869\n",
      "Epoch 6/10\n",
      "182276/182276 [==============================] - 1s 5us/sample - loss: 0.0023 - accuracy: 0.0680 - tp: 249.0000 - fp: 35.0000 - tn: 181936.0000 - fn: 56.0000 - precision: 0.8768 - recall: 0.8164 - auc: 0.9700 - val_loss: 0.0056 - val_accuracy: 0.0397 - val_tp: 56.0000 - val_fp: 11.0000 - val_tn: 45478.0000 - val_fn: 24.0000 - val_precision: 0.8358 - val_recall: 0.7000 - val_auc: 0.9113\n",
      "Epoch 7/10\n",
      "182276/182276 [==============================] - 1s 5us/sample - loss: 0.0021 - accuracy: 0.0738 - tp: 249.0000 - fp: 38.0000 - tn: 181933.0000 - fn: 56.0000 - precision: 0.8676 - recall: 0.8164 - auc: 0.9717 - val_loss: 0.0059 - val_accuracy: 0.0743 - val_tp: 55.0000 - val_fp: 10.0000 - val_tn: 45479.0000 - val_fn: 25.0000 - val_precision: 0.8462 - val_recall: 0.6875 - val_auc: 0.8929\n",
      "Epoch 8/10\n",
      "182276/182276 [==============================] - 1s 5us/sample - loss: 0.0019 - accuracy: 0.1112 - tp: 248.0000 - fp: 28.0000 - tn: 181943.0000 - fn: 57.0000 - precision: 0.8986 - recall: 0.8131 - auc: 0.9750 - val_loss: 0.0058 - val_accuracy: 0.0997 - val_tp: 56.0000 - val_fp: 10.0000 - val_tn: 45479.0000 - val_fn: 24.0000 - val_precision: 0.8485 - val_recall: 0.7000 - val_auc: 0.8993\n",
      "Epoch 9/10\n",
      "182276/182276 [==============================] - 1s 4us/sample - loss: 0.0016 - accuracy: 0.1376 - tp: 252.0000 - fp: 26.0000 - tn: 181945.0000 - fn: 53.0000 - precision: 0.9065 - recall: 0.8262 - auc: 0.9784 - val_loss: 0.0066 - val_accuracy: 0.1700 - val_tp: 57.0000 - val_fp: 12.0000 - val_tn: 45477.0000 - val_fn: 23.0000 - val_precision: 0.8261 - val_recall: 0.7125 - val_auc: 0.8871\n",
      "Epoch 10/10\n",
      "182276/182276 [==============================] - 1s 5us/sample - loss: 0.0016 - accuracy: 0.2005 - tp: 256.0000 - fp: 33.0000 - tn: 181938.0000 - fn: 49.0000 - precision: 0.8858 - recall: 0.8393 - auc: 0.9801 - val_loss: 0.0065 - val_accuracy: 0.1773 - val_tp: 57.0000 - val_fp: 10.0000 - val_tn: 45479.0000 - val_fn: 23.0000 - val_precision: 0.8507 - val_recall: 0.7125 - val_auc: 0.8932\n"
     ]
    }
   ],
   "source": [
    "model = make_model()\n",
    "\n",
    "EPOCHS = 10\n",
    "BATCH_SIZE = 2048\n",
    "\n",
    "history = model.fit(\n",
    "    train_features,\n",
    "    train_labels,\n",
    "    batch_size=BATCH_SIZE,\n",
    "    epochs=EPOCHS,\n",
    "    validation_data=(val_features, val_labels))"
   ]
  },
  {
   "cell_type": "code",
   "execution_count": 9,
   "metadata": {},
   "outputs": [
    {
     "data": {
      "text/plain": [
       "<matplotlib.legend.Legend at 0x22ce0c3ffc8>"
      ]
     },
     "execution_count": 9,
     "metadata": {},
     "output_type": "execute_result"
    },
    {
     "data": {
      "image/png": "[encoded data removed]",
      "text/plain": [
       "<Figure size 432x288 with 1 Axes>"
      ]
     },
     "metadata": {
      "needs_background": "light"
     },
     "output_type": "display_data"
    },
    {
     "data": {
      "image/png": "[encoded data removed]",
      "text/plain": [
       "<Figure size 432x288 with 1 Axes>"
      ]
     },
     "metadata": {
      "needs_background": "light"
     },
     "output_type": "display_data"
    },
    {
     "data": {
      "image/png": "[encoded data removed]",
      "text/plain": [
       "<Figure size 432x288 with 1 Axes>"
      ]
     },
     "metadata": {
      "needs_background": "light"
     },
     "output_type": "display_data"
    }
   ],
   "source": [
    "epochs = range(EPOCHS)\n",
    "\n",
    "plt.title('Accuracy')\n",
    "plt.plot(epochs,  history.history['accuracy'], color='blue', label='Train')\n",
    "plt.plot(epochs, history.history['val_accuracy'], color='orange', label='Val')\n",
    "plt.xlabel('Epoch')\n",
    "plt.ylabel('Accuracy')\n",
    "plt.legend()\n",
    "\n",
    "_ = plt.figure()\n",
    "plt.title('Loss')\n",
    "plt.plot(epochs, history.history['loss'], color='blue', label='Train')\n",
    "plt.plot(epochs, history.history['val_loss'], color='orange', label='Val')\n",
    "plt.xlabel('Epoch')\n",
    "plt.ylabel('Loss')\n",
    "plt.legend()\n",
    "\n",
    "_ = plt.figure()\n",
    "plt.title('False Negatives')\n",
    "plt.plot(epochs, history.history['fn'], color='blue', label='Train')\n",
    "plt.plot(epochs, history.history['val_fn'], color='orange', label='Val')\n",
    "plt.xlabel('Epoch')\n",
    "plt.ylabel('False Negatives')\n",
    "plt.legend()"
   ]
  },
  {
   "cell_type": "code",
   "execution_count": 10,
   "metadata": {},
   "outputs": [
    {
     "name": "stdout",
     "output_type": "stream",
     "text": [
      "56962/1 - 8s - loss: 0.0015 - accuracy: 0.1768 - tp: 91.0000 - fp: 14.0000 - tn: 56841.0000 - fn: 16.0000 - precision: 0.8667 - recall: 0.8505 - auc: 0.9530\n",
      "loss :  0.002902992959023148\n",
      "accuracy :  0.17680208\n",
      "tp :  91.0\n",
      "fp :  14.0\n",
      "tn :  56841.0\n",
      "fn :  16.0\n",
      "precision :  0.8666667\n",
      "recall :  0.85046726\n",
      "auc :  0.95302904\n"
     ]
    }
   ],
   "source": [
    "results = model.evaluate(test_features, test_labels, verbose=2)\n",
    "for name, value in zip(model.metrics_names, results):\n",
    "  print(name, ': ', value)"
   ]
  },
  {
   "cell_type": "code",
   "execution_count": 11,
   "metadata": {},
   "outputs": [
    {
     "data": {
      "image/png": "[encoded data removed]",
      "text/plain": [
       "<Figure size 288x288 with 1 Axes>"
      ]
     },
     "metadata": {
      "needs_background": "light"
     },
     "output_type": "display_data"
    },
    {
     "name": "stdout",
     "output_type": "stream",
     "text": [
      "Legitimate Transactions Detected (True Negatives):  56841\n",
      "Legitimate Transactions Incorrectly Detected (False Positives):  14\n",
      "Fraudulent Transactions Missed (False Negatives):  16\n",
      "Fraudulent Transactions Detected (True Positives):  91\n",
      "Total Fraudulent Transactions:  107\n"
     ]
    }
   ],
   "source": [
    "predicted_labels = model.predict(test_features)\n",
    "cm = confusion_matrix(test_labels, np.round(predicted_labels))\n",
    "\n",
    "plt.matshow(cm, alpha=0)\n",
    "plt.title('Confusion matrix')\n",
    "plt.ylabel('Actual label')\n",
    "plt.xlabel('Predicted label')\n",
    "\n",
    "for (i, j), z in np.ndenumerate(cm):\n",
    "    plt.text(j, i, str(z), ha='center', va='center')\n",
    "    \n",
    "plt.show()\n",
    "\n",
    "print('Legitimate Transactions Detected (True Negatives): ', cm[0][0])\n",
    "print('Legitimate Transactions Incorrectly Detected (False Positives): ', cm[0][1])\n",
    "print('Fraudulent Transactions Missed (False Negatives): ', cm[1][0])\n",
    "print('Fraudulent Transactions Detected (True Positives): ', cm[1][1])\n",
    "print('Total Fraudulent Transactions: ', np.sum(cm[1]))"
   ]
  },
  {
   "cell_type": "code",
   "execution_count": 12,
   "metadata": {},
   "outputs": [
    {
     "name": "stdout",
     "output_type": "stream",
     "text": [
      "Weight for class 0: 5.50e-06\n",
      "Weight for class 1: 3.28e-03\n"
     ]
    }
   ],
   "source": [
    "weight_for_0 = 1 / neg\n",
    "weight_for_1 = 1 / pos\n",
    "\n",
    "class_weight = {0: weight_for_0, 1: weight_for_1}\n",
    "\n",
    "print('Weight for class 0: {:.2e}'.format(weight_for_0))\n",
    "print('Weight for class 1: {:.2e}'.format(weight_for_1))"
   ]
  },
  {
   "cell_type": "code",
   "execution_count": 13,
   "metadata": {},
   "outputs": [
    {
     "name": "stdout",
     "output_type": "stream",
     "text": [
      "Train on 182276 samples, validate on 45569 samples\n",
      "Epoch 1/10\n",
      "182276/182276 [==============================] - 3s 14us/sample - loss: 4.7503e-06 - accuracy: 1.6459e-05 - tp: 270.0000 - fp: 66244.0000 - tn: 115727.0000 - fn: 35.0000 - precision: 0.0041 - recall: 0.8852 - auc: 0.9046 - val_loss: 3.8651e-06 - val_accuracy: 0.0000e+00 - val_tp: 62.0000 - val_fp: 305.0000 - val_tn: 45184.0000 - val_fn: 18.0000 - val_precision: 0.1689 - val_recall: 0.7750 - val_auc: 0.9034\n",
      "Epoch 2/10\n",
      "182276/182276 [==============================] - 1s 5us/sample - loss: 2.5629e-06 - accuracy: 2.2493e-04 - tp: 269.0000 - fp: 1943.0000 - tn: 180028.0000 - fn: 36.0000 - precision: 0.1216 - recall: 0.8820 - auc: 0.9582 - val_loss: 3.3338e-06 - val_accuracy: 3.2917e-04 - val_tp: 63.0000 - val_fp: 783.0000 - val_tn: 44706.0000 - val_fn: 17.0000 - val_precision: 0.0745 - val_recall: 0.7875 - val_auc: 0.9219\n",
      "Epoch 3/10\n",
      "182276/182276 [==============================] - 1s 5us/sample - loss: 1.7627e-06 - accuracy: 4.0598e-04 - tp: 276.0000 - fp: 2987.0000 - tn: 178984.0000 - fn: 29.0000 - precision: 0.0846 - recall: 0.9049 - auc: 0.9793 - val_loss: 3.4247e-06 - val_accuracy: 4.1695e-04 - val_tp: 65.0000 - val_fp: 923.0000 - val_tn: 44566.0000 - val_fn: 15.0000 - val_precision: 0.0658 - val_recall: 0.8125 - val_auc: 0.9422\n",
      "Epoch 4/10\n",
      "182276/182276 [==============================] - 1s 5us/sample - loss: 1.4652e-06 - accuracy: 5.4862e-04 - tp: 282.0000 - fp: 3232.0000 - tn: 178739.0000 - fn: 23.0000 - precision: 0.0803 - recall: 0.9246 - auc: 0.9857 - val_loss: 3.3996e-06 - val_accuracy: 4.6084e-04 - val_tp: 65.0000 - val_fp: 982.0000 - val_tn: 44507.0000 - val_fn: 15.0000 - val_precision: 0.0621 - val_recall: 0.8125 - val_auc: 0.9529\n",
      "Epoch 5/10\n",
      "182276/182276 [==============================] - 1s 5us/sample - loss: 1.2268e-06 - accuracy: 6.7480e-04 - tp: 285.0000 - fp: 2790.0000 - tn: 179181.0000 - fn: 20.0000 - precision: 0.0927 - recall: 0.9344 - auc: 0.9914 - val_loss: 4.0879e-06 - val_accuracy: 5.9251e-04 - val_tp: 65.0000 - val_fp: 694.0000 - val_tn: 44795.0000 - val_fn: 15.0000 - val_precision: 0.0856 - val_recall: 0.8125 - val_auc: 0.9510\n",
      "Epoch 6/10\n",
      "182276/182276 [==============================] - 1s 5us/sample - loss: 1.1298e-06 - accuracy: 9.5460e-04 - tp: 285.0000 - fp: 3386.0000 - tn: 178585.0000 - fn: 20.0000 - precision: 0.0776 - recall: 0.9344 - auc: 0.9933 - val_loss: 4.2194e-06 - val_accuracy: 8.5584e-04 - val_tp: 65.0000 - val_fp: 689.0000 - val_tn: 44800.0000 - val_fn: 15.0000 - val_precision: 0.0862 - val_recall: 0.8125 - val_auc: 0.9506\n",
      "Epoch 7/10\n",
      "182276/182276 [==============================] - 1s 5us/sample - loss: 1.0591e-06 - accuracy: 0.0012 - tp: 284.0000 - fp: 3432.0000 - tn: 178539.0000 - fn: 21.0000 - precision: 0.0764 - recall: 0.9311 - auc: 0.9942 - val_loss: 4.3313e-06 - val_accuracy: 0.0013 - val_tp: 66.0000 - val_fp: 824.0000 - val_tn: 44665.0000 - val_fn: 14.0000 - val_precision: 0.0742 - val_recall: 0.8250 - val_auc: 0.9550\n",
      "Epoch 8/10\n",
      "182276/182276 [==============================] - 1s 5us/sample - loss: 1.0320e-06 - accuracy: 0.0017 - tp: 288.0000 - fp: 3793.0000 - tn: 178178.0000 - fn: 17.0000 - precision: 0.0706 - recall: 0.9443 - auc: 0.9929 - val_loss: 3.9351e-06 - val_accuracy: 9.2168e-04 - val_tp: 66.0000 - val_fp: 1154.0000 - val_tn: 44335.0000 - val_fn: 14.0000 - val_precision: 0.0541 - val_recall: 0.8250 - val_auc: 0.9514\n",
      "Epoch 9/10\n",
      "182276/182276 [==============================] - 1s 5us/sample - loss: 9.4135e-07 - accuracy: 0.0014 - tp: 288.0000 - fp: 3198.0000 - tn: 178773.0000 - fn: 17.0000 - precision: 0.0826 - recall: 0.9443 - auc: 0.9949 - val_loss: 4.6718e-06 - val_accuracy: 0.0011 - val_tp: 66.0000 - val_fp: 729.0000 - val_tn: 44760.0000 - val_fn: 14.0000 - val_precision: 0.0830 - val_recall: 0.8250 - val_auc: 0.9501\n",
      "Epoch 10/10\n",
      "182276/182276 [==============================] - 1s 5us/sample - loss: 7.4414e-07 - accuracy: 0.0019 - tp: 297.0000 - fp: 3143.0000 - tn: 178828.0000 - fn: 8.0000 - precision: 0.0863 - recall: 0.9738 - auc: 0.9979 - val_loss: 5.9634e-06 - val_accuracy: 0.0025 - val_tp: 64.0000 - val_fp: 405.0000 - val_tn: 45084.0000 - val_fn: 16.0000 - val_precision: 0.1365 - val_recall: 0.8000 - val_auc: 0.9495\n"
     ]
    }
   ],
   "source": [
    "weighted_model = make_model()\n",
    "\n",
    "weighted_history = weighted_model.fit(\n",
    "    train_features,\n",
    "    train_labels,\n",
    "    batch_size=BATCH_SIZE,\n",
    "    epochs=EPOCHS,\n",
    "    validation_data=(val_features, val_labels),\n",
    "    class_weight=class_weight)"
   ]
  },
  {
   "cell_type": "code",
   "execution_count": 14,
   "metadata": {},
   "outputs": [
    {
     "name": "stdout",
     "output_type": "stream",
     "text": [
      "56962/1 - 9s - loss: 0.0244 - accuracy: 0.0029 - tp: 98.0000 - fp: 498.0000 - tn: 56357.0000 - fn: 9.0000 - precision: 0.1644 - recall: 0.9159 - auc: 0.9790\n",
      "loss :  0.0408904792506222\n",
      "accuracy :  0.0028615568\n",
      "tp :  98.0\n",
      "fp :  498.0\n",
      "tn :  56357.0\n",
      "fn :  9.0\n",
      "precision :  0.16442953\n",
      "recall :  0.91588783\n",
      "auc :  0.97901714\n"
     ]
    }
   ],
   "source": [
    "weighted_results = weighted_model.evaluate(test_features, test_labels, verbose=2)\n",
    "for name, value in zip(weighted_model.metrics_names, weighted_results):\n",
    "  print(name, ': ', value)"
   ]
  },
  {
   "cell_type": "code",
   "execution_count": 15,
   "metadata": {},
   "outputs": [
    {
     "name": "stdout",
     "output_type": "stream",
     "text": [
      "181971 positive samples out of 363942 training samples (50.00% of total)\n"
     ]
    }
   ],
   "source": [
    "# with default args this will oversample the minority class to have an equal\n",
    "# number of observations\n",
    "smote = SMOTE()\n",
    "res_features, res_labels = smote.fit_sample(train_features, train_labels)\n",
    "\n",
    "res_neg, res_pos = np.bincount(res_labels)\n",
    "res_total = res_neg + res_pos\n",
    "print('{} positive samples out of {} training samples ({:.2f}% of total)'.format(\n",
    "    res_pos, res_total, 100 * res_pos / res_total))"
   ]
  },
  {
   "cell_type": "code",
   "execution_count": 16,
   "metadata": {},
   "outputs": [
    {
     "name": "stdout",
     "output_type": "stream",
     "text": [
      "Train on 363942 samples, validate on 45569 samples\n",
      "Epoch 1/10\n",
      "363942/363942 [==============================] - 3s 9us/sample - loss: 0.0497 - accuracy: 0.3179 - tp: 178867.0000 - fp: 4095.0000 - tn: 177876.0000 - fn: 3104.0000 - precision: 0.9776 - recall: 0.9829 - auc: 0.9985 - val_loss: 0.0183 - val_accuracy: 0.4070 - val_tp: 63.0000 - val_fp: 105.0000 - val_tn: 45384.0000 - val_fn: 17.0000 - val_precision: 0.3750 - val_recall: 0.7875 - val_auc: 0.9041\n",
      "Epoch 2/10\n",
      "363942/363942 [==============================] - 2s 4us/sample - loss: 0.0043 - accuracy: 0.4826 - tp: 181957.0000 - fp: 265.0000 - tn: 181706.0000 - fn: 14.0000 - precision: 0.9985 - recall: 0.9999 - auc: 0.9998 - val_loss: 0.0167 - val_accuracy: 0.7959 - val_tp: 60.0000 - val_fp: 43.0000 - val_tn: 45446.0000 - val_fn: 20.0000 - val_precision: 0.5825 - val_recall: 0.7500 - val_auc: 0.8993\n",
      "Epoch 3/10\n",
      "363942/363942 [==============================] - 2s 4us/sample - loss: 0.0027 - accuracy: 0.5592 - tp: 181964.0000 - fp: 147.0000 - tn: 181824.0000 - fn: 7.0000 - precision: 0.9992 - recall: 1.0000 - auc: 0.9999 - val_loss: 0.0157 - val_accuracy: 0.9077 - val_tp: 60.0000 - val_fp: 46.0000 - val_tn: 45443.0000 - val_fn: 20.0000 - val_precision: 0.5660 - val_recall: 0.7500 - val_auc: 0.8932\n",
      "Epoch 4/10\n",
      "363942/363942 [==============================] - 2s 4us/sample - loss: 0.0018 - accuracy: 0.5933 - tp: 181967.0000 - fp: 103.0000 - tn: 181868.0000 - fn: 4.0000 - precision: 0.9994 - recall: 1.0000 - auc: 0.9999 - val_loss: 0.0172 - val_accuracy: 0.9440 - val_tp: 58.0000 - val_fp: 30.0000 - val_tn: 45459.0000 - val_fn: 22.0000 - val_precision: 0.6591 - val_recall: 0.7250 - val_auc: 0.8870\n",
      "Epoch 5/10\n",
      "363942/363942 [==============================] - 2s 5us/sample - loss: 0.0016 - accuracy: 0.6249 - tp: 181957.0000 - fp: 90.0000 - tn: 181881.0000 - fn: 14.0000 - precision: 0.9995 - recall: 0.9999 - auc: 0.9999 - val_loss: 0.0178 - val_accuracy: 0.9666 - val_tp: 57.0000 - val_fp: 21.0000 - val_tn: 45468.0000 - val_fn: 23.0000 - val_precision: 0.7308 - val_recall: 0.7125 - val_auc: 0.8685\n",
      "Epoch 6/10\n",
      "363942/363942 [==============================] - 2s 4us/sample - loss: 0.0012 - accuracy: 0.6426 - tp: 181966.0000 - fp: 73.0000 - tn: 181898.0000 - fn: 5.0000 - precision: 0.9996 - recall: 1.0000 - auc: 0.9999 - val_loss: 0.0199 - val_accuracy: 0.9733 - val_tp: 57.0000 - val_fp: 25.0000 - val_tn: 45464.0000 - val_fn: 23.0000 - val_precision: 0.6951 - val_recall: 0.7125 - val_auc: 0.8747\n",
      "Epoch 7/10\n",
      "363942/363942 [==============================] - 1s 4us/sample - loss: 9.6369e-04 - accuracy: 0.6755 - tp: 181965.0000 - fp: 59.0000 - tn: 181912.0000 - fn: 6.0000 - precision: 0.9997 - recall: 1.0000 - auc: 1.0000 - val_loss: 0.0224 - val_accuracy: 0.9792 - val_tp: 55.0000 - val_fp: 22.0000 - val_tn: 45467.0000 - val_fn: 25.0000 - val_precision: 0.7143 - val_recall: 0.6875 - val_auc: 0.8560\n",
      "Epoch 8/10\n",
      "363942/363942 [==============================] - 1s 4us/sample - loss: 0.0010 - accuracy: 0.7182 - tp: 181961.0000 - fp: 64.0000 - tn: 181907.0000 - fn: 10.0000 - precision: 0.9996 - recall: 0.9999 - auc: 1.0000 - val_loss: 0.0222 - val_accuracy: 0.9796 - val_tp: 56.0000 - val_fp: 23.0000 - val_tn: 45466.0000 - val_fn: 24.0000 - val_precision: 0.7089 - val_recall: 0.7000 - val_auc: 0.8685\n",
      "Epoch 9/10\n",
      "363942/363942 [==============================] - 1s 4us/sample - loss: 8.5222e-04 - accuracy: 0.7051 - tp: 181964.0000 - fp: 51.0000 - tn: 181920.0000 - fn: 7.0000 - precision: 0.9997 - recall: 1.0000 - auc: 0.9999 - val_loss: 0.0231 - val_accuracy: 0.9871 - val_tp: 54.0000 - val_fp: 16.0000 - val_tn: 45473.0000 - val_fn: 26.0000 - val_precision: 0.7714 - val_recall: 0.6750 - val_auc: 0.8561\n",
      "Epoch 10/10\n",
      "363942/363942 [==============================] - 2s 4us/sample - loss: 8.6725e-04 - accuracy: 0.7152 - tp: 181962.0000 - fp: 48.0000 - tn: 181923.0000 - fn: 9.0000 - precision: 0.9997 - recall: 1.0000 - auc: 1.0000 - val_loss: 0.0231 - val_accuracy: 0.9815 - val_tp: 55.0000 - val_fp: 22.0000 - val_tn: 45467.0000 - val_fn: 25.0000 - val_precision: 0.7143 - val_recall: 0.6875 - val_auc: 0.8498\n"
     ]
    }
   ],
   "source": [
    "resampled_model = make_model()\n",
    "\n",
    "resampled_history = resampled_model.fit(\n",
    "    res_features,\n",
    "    res_labels,\n",
    "    batch_size=BATCH_SIZE,\n",
    "    epochs=EPOCHS,\n",
    "    validation_data=(val_features, val_labels))"
   ]
  },
  {
   "cell_type": "code",
   "execution_count": 17,
   "metadata": {},
   "outputs": [
    {
     "name": "stdout",
     "output_type": "stream",
     "text": [
      "56962/1 - 8s - loss: 0.0058 - accuracy: 0.9827 - tp: 93.0000 - fp: 29.0000 - tn: 56826.0000 - fn: 14.0000 - precision: 0.7623 - recall: 0.8692 - auc: 0.9391\n",
      "loss :  0.01166205530452411\n",
      "accuracy :  0.98267263\n",
      "tp :  93.0\n",
      "fp :  29.0\n",
      "tn :  56826.0\n",
      "fn :  14.0\n",
      "precision :  0.76229507\n",
      "recall :  0.86915886\n",
      "auc :  0.9391026\n"
     ]
    }
   ],
   "source": [
    "resampled_results = resampled_model.evaluate(test_features, test_labels, verbose=2)\n",
    "for name, value in zip(resampled_model.metrics_names, resampled_results):\n",
    "  print(name, ': ', value)"
   ]
  },
  {
   "cell_type": "code",
   "execution_count": null,
   "metadata": {},
   "outputs": [],
   "source": [
    " "
   ]
  }
 ],
 "metadata": {
  "kernelspec": {
   "display_name": "Python 3",
   "language": "python",
   "name": "python3"
  },
  "language_info": {
   "codemirror_mode": {
    "name": "ipython",
    "version": 3
   },
   "file_extension": ".py",
   "mimetype": "text/x-python",
   "name": "python",
   "nbconvert_exporter": "python",
   "pygments_lexer": "ipython3",
   "version": "3.7.4"
  }
 },
 "nbformat": 4,
 "nbformat_minor": 4
}
