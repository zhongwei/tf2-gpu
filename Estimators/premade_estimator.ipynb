{
 "cells": [
  {
   "cell_type": "code",
   "execution_count": 1,
   "metadata": {},
   "outputs": [],
   "source": [
    "from __future__ import absolute_import, division, print_function, unicode_literals\n",
    "\n",
    "\n",
    "import tensorflow as tf\n",
    "\n",
    "import pandas as pd"
   ]
  },
  {
   "cell_type": "code",
   "execution_count": 2,
   "metadata": {},
   "outputs": [
    {
     "name": "stdout",
     "output_type": "stream",
     "text": [
      "Name: /physical_device:GPU:0   Type: GPU\n"
     ]
    }
   ],
   "source": [
    "gpus = tf.config.experimental.list_physical_devices('GPU')\n",
    "\n",
    "for gpu in gpus:\n",
    "    print(\"Name:\", gpu.name, \"  Type:\", gpu.device_type)\n",
    "\n",
    "tf.config.experimental.set_virtual_device_configuration(gpus[0], [tf.config.experimental.VirtualDeviceConfiguration(memory_limit=2048)])"
   ]
  },
  {
   "cell_type": "code",
   "execution_count": 3,
   "metadata": {},
   "outputs": [],
   "source": [
    "CSV_COLUMN_NAMES = ['SepalLength', 'SepalWidth', 'PetalLength', 'PetalWidth', 'Species']\n",
    "SPECIES = ['Setosa', 'Versicolor', 'Virginica']"
   ]
  },
  {
   "cell_type": "code",
   "execution_count": 4,
   "metadata": {},
   "outputs": [
    {
     "name": "stdout",
     "output_type": "stream",
     "text": [
      "Downloading data from https://storage.googleapis.com/download.tensorflow.org/data/iris_training.csv\n",
      "8192/2194 [================================================================================================================] - 0s 0us/step\n",
      "Downloading data from https://storage.googleapis.com/download.tensorflow.org/data/iris_test.csv\n",
      "8192/573 [============================================================================================================================================================================================================================================================================================================================================================================================================================================] - 0s 0s/step\n"
     ]
    }
   ],
   "source": [
    "train_path = tf.keras.utils.get_file(\n",
    "    \"iris_training.csv\", \"https://storage.googleapis.com/download.tensorflow.org/data/iris_training.csv\")\n",
    "test_path = tf.keras.utils.get_file(\n",
    "    \"iris_test.csv\", \"https://storage.googleapis.com/download.tensorflow.org/data/iris_test.csv\")\n",
    "\n",
    "train = pd.read_csv(train_path, names=CSV_COLUMN_NAMES, header=0)\n",
    "test = pd.read_csv(test_path, names=CSV_COLUMN_NAMES, header=0)"
   ]
  },
  {
   "cell_type": "code",
   "execution_count": 5,
   "metadata": {},
   "outputs": [
    {
     "data": {
      "text/html": [
       "<div>\n",
       "<style scoped>\n",
       "    .dataframe tbody tr th:only-of-type {\n",
       "        vertical-align: middle;\n",
       "    }\n",
       "\n",
       "    .dataframe tbody tr th {\n",
       "        vertical-align: top;\n",
       "    }\n",
       "\n",
       "    .dataframe thead th {\n",
       "        text-align: right;\n",
       "    }\n",
       "</style>\n",
       "<table border=\"1\" class=\"dataframe\">\n",
       "  <thead>\n",
       "    <tr style=\"text-align: right;\">\n",
       "      <th></th>\n",
       "      <th>SepalLength</th>\n",
       "      <th>SepalWidth</th>\n",
       "      <th>PetalLength</th>\n",
       "      <th>PetalWidth</th>\n",
       "      <th>Species</th>\n",
       "    </tr>\n",
       "  </thead>\n",
       "  <tbody>\n",
       "    <tr>\n",
       "      <td>0</td>\n",
       "      <td>6.4</td>\n",
       "      <td>2.8</td>\n",
       "      <td>5.6</td>\n",
       "      <td>2.2</td>\n",
       "      <td>2</td>\n",
       "    </tr>\n",
       "    <tr>\n",
       "      <td>1</td>\n",
       "      <td>5.0</td>\n",
       "      <td>2.3</td>\n",
       "      <td>3.3</td>\n",
       "      <td>1.0</td>\n",
       "      <td>1</td>\n",
       "    </tr>\n",
       "    <tr>\n",
       "      <td>2</td>\n",
       "      <td>4.9</td>\n",
       "      <td>2.5</td>\n",
       "      <td>4.5</td>\n",
       "      <td>1.7</td>\n",
       "      <td>2</td>\n",
       "    </tr>\n",
       "    <tr>\n",
       "      <td>3</td>\n",
       "      <td>4.9</td>\n",
       "      <td>3.1</td>\n",
       "      <td>1.5</td>\n",
       "      <td>0.1</td>\n",
       "      <td>0</td>\n",
       "    </tr>\n",
       "    <tr>\n",
       "      <td>4</td>\n",
       "      <td>5.7</td>\n",
       "      <td>3.8</td>\n",
       "      <td>1.7</td>\n",
       "      <td>0.3</td>\n",
       "      <td>0</td>\n",
       "    </tr>\n",
       "  </tbody>\n",
       "</table>\n",
       "</div>"
      ],
      "text/plain": [
       "   SepalLength  SepalWidth  PetalLength  PetalWidth  Species\n",
       "0          6.4         2.8          5.6         2.2        2\n",
       "1          5.0         2.3          3.3         1.0        1\n",
       "2          4.9         2.5          4.5         1.7        2\n",
       "3          4.9         3.1          1.5         0.1        0\n",
       "4          5.7         3.8          1.7         0.3        0"
      ]
     },
     "execution_count": 5,
     "metadata": {},
     "output_type": "execute_result"
    }
   ],
   "source": [
    "train.head()"
   ]
  },
  {
   "cell_type": "code",
   "execution_count": 6,
   "metadata": {},
   "outputs": [
    {
     "data": {
      "text/html": [
       "<div>\n",
       "<style scoped>\n",
       "    .dataframe tbody tr th:only-of-type {\n",
       "        vertical-align: middle;\n",
       "    }\n",
       "\n",
       "    .dataframe tbody tr th {\n",
       "        vertical-align: top;\n",
       "    }\n",
       "\n",
       "    .dataframe thead th {\n",
       "        text-align: right;\n",
       "    }\n",
       "</style>\n",
       "<table border=\"1\" class=\"dataframe\">\n",
       "  <thead>\n",
       "    <tr style=\"text-align: right;\">\n",
       "      <th></th>\n",
       "      <th>SepalLength</th>\n",
       "      <th>SepalWidth</th>\n",
       "      <th>PetalLength</th>\n",
       "      <th>PetalWidth</th>\n",
       "    </tr>\n",
       "  </thead>\n",
       "  <tbody>\n",
       "    <tr>\n",
       "      <td>0</td>\n",
       "      <td>6.4</td>\n",
       "      <td>2.8</td>\n",
       "      <td>5.6</td>\n",
       "      <td>2.2</td>\n",
       "    </tr>\n",
       "    <tr>\n",
       "      <td>1</td>\n",
       "      <td>5.0</td>\n",
       "      <td>2.3</td>\n",
       "      <td>3.3</td>\n",
       "      <td>1.0</td>\n",
       "    </tr>\n",
       "    <tr>\n",
       "      <td>2</td>\n",
       "      <td>4.9</td>\n",
       "      <td>2.5</td>\n",
       "      <td>4.5</td>\n",
       "      <td>1.7</td>\n",
       "    </tr>\n",
       "    <tr>\n",
       "      <td>3</td>\n",
       "      <td>4.9</td>\n",
       "      <td>3.1</td>\n",
       "      <td>1.5</td>\n",
       "      <td>0.1</td>\n",
       "    </tr>\n",
       "    <tr>\n",
       "      <td>4</td>\n",
       "      <td>5.7</td>\n",
       "      <td>3.8</td>\n",
       "      <td>1.7</td>\n",
       "      <td>0.3</td>\n",
       "    </tr>\n",
       "  </tbody>\n",
       "</table>\n",
       "</div>"
      ],
      "text/plain": [
       "   SepalLength  SepalWidth  PetalLength  PetalWidth\n",
       "0          6.4         2.8          5.6         2.2\n",
       "1          5.0         2.3          3.3         1.0\n",
       "2          4.9         2.5          4.5         1.7\n",
       "3          4.9         3.1          1.5         0.1\n",
       "4          5.7         3.8          1.7         0.3"
      ]
     },
     "execution_count": 6,
     "metadata": {},
     "output_type": "execute_result"
    }
   ],
   "source": [
    "train_y = train.pop('Species')\n",
    "test_y = test.pop('Species')\n",
    "\n",
    "# The label column has now been removed from the features.\n",
    "train.head()"
   ]
  },
  {
   "cell_type": "code",
   "execution_count": 7,
   "metadata": {},
   "outputs": [],
   "source": [
    "def input_evaluation_set():\n",
    "    features = {'SepalLength': np.array([6.4, 5.0]),\n",
    "                'SepalWidth':  np.array([2.8, 2.3]),\n",
    "                'PetalLength': np.array([5.6, 3.3]),\n",
    "                'PetalWidth':  np.array([2.2, 1.0])}\n",
    "    labels = np.array([2, 1])\n",
    "    return features, labels"
   ]
  },
  {
   "cell_type": "code",
   "execution_count": 8,
   "metadata": {},
   "outputs": [],
   "source": [
    "def input_fn(features, labels, training=True, batch_size=256):\n",
    "    \"\"\"An input function for training or evaluating\"\"\"\n",
    "    # Convert the inputs to a Dataset.\n",
    "    dataset = tf.data.Dataset.from_tensor_slices((dict(features), labels))\n",
    "\n",
    "    # Shuffle and repeat if you are in training mode.\n",
    "    if training:\n",
    "        dataset = dataset.shuffle(1000).repeat()\n",
    "    \n",
    "    return dataset.batch(batch_size)"
   ]
  },
  {
   "cell_type": "code",
   "execution_count": 9,
   "metadata": {},
   "outputs": [],
   "source": [
    "# Feature columns describe how to use the input.\n",
    "my_feature_columns = []\n",
    "for key in train.keys():\n",
    "    my_feature_columns.append(tf.feature_column.numeric_column(key=key))"
   ]
  },
  {
   "cell_type": "code",
   "execution_count": 10,
   "metadata": {},
   "outputs": [
    {
     "name": "stdout",
     "output_type": "stream",
     "text": [
      "INFO:tensorflow:Using default config.\n",
      "WARNING:tensorflow:Using temporary folder as model directory: C:\\Users\\sunlin\\AppData\\Local\\Temp\\tmpk2x98t2q\n",
      "INFO:tensorflow:Using config: {'_model_dir': 'C:\\\\Users\\\\sunlin\\\\AppData\\\\Local\\\\Temp\\\\tmpk2x98t2q', '_tf_random_seed': None, '_save_summary_steps': 100, '_save_checkpoints_steps': None, '_save_checkpoints_secs': 600, '_session_config': allow_soft_placement: true\n",
      "graph_options {\n",
      "  rewrite_options {\n",
      "    meta_optimizer_iterations: ONE\n",
      "  }\n",
      "}\n",
      ", '_keep_checkpoint_max': 5, '_keep_checkpoint_every_n_hours': 10000, '_log_step_count_steps': 100, '_train_distribute': None, '_device_fn': None, '_protocol': None, '_eval_distribute': None, '_experimental_distribute': None, '_experimental_max_worker_delay_secs': None, '_session_creation_timeout_secs': 7200, '_service': None, '_cluster_spec': <tensorflow.python.training.server_lib.ClusterSpec object at 0x00000250428AA948>, '_task_type': 'worker', '_task_id': 0, '_global_id_in_cluster': 0, '_master': '', '_evaluation_master': '', '_is_chief': True, '_num_ps_replicas': 0, '_num_worker_replicas': 1}\n"
     ]
    }
   ],
   "source": [
    "# Build a DNN with 2 hidden layers with 30 and 10 hidden nodes each.\n",
    "classifier = tf.estimator.DNNClassifier(\n",
    "    feature_columns=my_feature_columns,\n",
    "    # Two hidden layers of 10 nodes each.\n",
    "    hidden_units=[30, 10],\n",
    "    # The model must choose between 3 classes.\n",
    "    n_classes=3)"
   ]
  },
  {
   "cell_type": "code",
   "execution_count": 11,
   "metadata": {},
   "outputs": [
    {
     "name": "stdout",
     "output_type": "stream",
     "text": [
      "WARNING:tensorflow:From c:\\users\\sunlin\\appdata\\local\\programs\\python\\python37\\lib\\site-packages\\tensorflow_core\\python\\ops\\resource_variable_ops.py:1630: calling BaseResourceVariable.__init__ (from tensorflow.python.ops.resource_variable_ops) with constraint is deprecated and will be removed in a future version.\n",
      "Instructions for updating:\n",
      "If using Keras pass *_constraint arguments to layers.\n",
      "WARNING:tensorflow:From c:\\users\\sunlin\\appdata\\local\\programs\\python\\python37\\lib\\site-packages\\tensorflow_core\\python\\training\\training_util.py:236: Variable.initialized_value (from tensorflow.python.ops.variables) is deprecated and will be removed in a future version.\n",
      "Instructions for updating:\n",
      "Use Variable.read_value. Variables in 2.X are initialized automatically both in eager and graph (inside tf.defun) contexts.\n",
      "INFO:tensorflow:Calling model_fn.\n",
      "WARNING:tensorflow:Layer dnn is casting an input tensor from dtype float64 to the layer's dtype of float32, which is new behavior in TensorFlow 2.  The layer has dtype float32 because it's dtype defaults to floatx.\n",
      "\n",
      "If you intended to run this layer in float32, you can safely ignore this warning. If in doubt, this warning is likely only an issue if you are porting a TensorFlow 1.X model to TensorFlow 2.\n",
      "\n",
      "To change all layers to have dtype float64 by default, call `tf.keras.backend.set_floatx('float64')`. To change just this layer, pass dtype='float64' to the layer constructor. If you are the author of this layer, you can disable autocasting by passing autocast=False to the base Layer constructor.\n",
      "\n",
      "WARNING:tensorflow:From c:\\users\\sunlin\\appdata\\local\\programs\\python\\python37\\lib\\site-packages\\tensorflow_core\\python\\keras\\optimizer_v2\\adagrad.py:108: calling Constant.__init__ (from tensorflow.python.ops.init_ops) with dtype is deprecated and will be removed in a future version.\n",
      "Instructions for updating:\n",
      "Call initializer instance with the dtype argument instead of passing it to the constructor\n",
      "INFO:tensorflow:Done calling model_fn.\n",
      "INFO:tensorflow:Create CheckpointSaverHook.\n",
      "INFO:tensorflow:Graph was finalized.\n",
      "INFO:tensorflow:Running local_init_op.\n",
      "INFO:tensorflow:Done running local_init_op.\n",
      "INFO:tensorflow:Saving checkpoints for 0 into C:\\Users\\sunlin\\AppData\\Local\\Temp\\tmpk2x98t2q\\model.ckpt.\n",
      "INFO:tensorflow:loss = 1.3256111, step = 0\n",
      "INFO:tensorflow:global_step/sec: 283.928\n",
      "INFO:tensorflow:loss = 1.2215196, step = 100 (0.353 sec)\n",
      "INFO:tensorflow:global_step/sec: 336.19\n",
      "INFO:tensorflow:loss = 1.1670208, step = 200 (0.297 sec)\n",
      "INFO:tensorflow:global_step/sec: 336.332\n",
      "INFO:tensorflow:loss = 1.1311657, step = 300 (0.297 sec)\n",
      "INFO:tensorflow:global_step/sec: 336.606\n",
      "INFO:tensorflow:loss = 1.0636289, step = 400 (0.297 sec)\n",
      "INFO:tensorflow:global_step/sec: 334.749\n",
      "INFO:tensorflow:loss = 1.0151103, step = 500 (0.298 sec)\n",
      "INFO:tensorflow:global_step/sec: 316.322\n",
      "INFO:tensorflow:loss = 0.98690724, step = 600 (0.317 sec)\n",
      "INFO:tensorflow:global_step/sec: 343.231\n",
      "INFO:tensorflow:loss = 0.9539618, step = 700 (0.291 sec)\n",
      "INFO:tensorflow:global_step/sec: 332.462\n",
      "INFO:tensorflow:loss = 0.9300898, step = 800 (0.301 sec)\n",
      "INFO:tensorflow:global_step/sec: 332.146\n",
      "INFO:tensorflow:loss = 0.90870583, step = 900 (0.301 sec)\n",
      "INFO:tensorflow:global_step/sec: 310.573\n",
      "INFO:tensorflow:loss = 0.8919745, step = 1000 (0.321 sec)\n",
      "INFO:tensorflow:global_step/sec: 312.656\n",
      "INFO:tensorflow:loss = 0.86468434, step = 1100 (0.320 sec)\n",
      "INFO:tensorflow:global_step/sec: 312.784\n",
      "INFO:tensorflow:loss = 0.8429439, step = 1200 (0.320 sec)\n",
      "INFO:tensorflow:global_step/sec: 306.105\n",
      "INFO:tensorflow:loss = 0.83179337, step = 1300 (0.327 sec)\n",
      "INFO:tensorflow:global_step/sec: 322.074\n",
      "INFO:tensorflow:loss = 0.8122578, step = 1400 (0.311 sec)\n",
      "INFO:tensorflow:global_step/sec: 346.507\n",
      "INFO:tensorflow:loss = 0.8024174, step = 1500 (0.288 sec)\n",
      "INFO:tensorflow:global_step/sec: 339.244\n",
      "INFO:tensorflow:loss = 0.78825635, step = 1600 (0.295 sec)\n",
      "INFO:tensorflow:global_step/sec: 340.26\n",
      "INFO:tensorflow:loss = 0.7706463, step = 1700 (0.294 sec)\n",
      "INFO:tensorflow:global_step/sec: 325.22\n",
      "INFO:tensorflow:loss = 0.7564658, step = 1800 (0.307 sec)\n",
      "INFO:tensorflow:global_step/sec: 331.504\n",
      "INFO:tensorflow:loss = 0.74570316, step = 1900 (0.302 sec)\n",
      "INFO:tensorflow:global_step/sec: 337.805\n",
      "INFO:tensorflow:loss = 0.73529077, step = 2000 (0.296 sec)\n",
      "INFO:tensorflow:global_step/sec: 279.657\n",
      "INFO:tensorflow:loss = 0.71868503, step = 2100 (0.358 sec)\n",
      "INFO:tensorflow:global_step/sec: 307.749\n",
      "INFO:tensorflow:loss = 0.7122817, step = 2200 (0.325 sec)\n",
      "INFO:tensorflow:global_step/sec: 323.844\n",
      "INFO:tensorflow:loss = 0.70360065, step = 2300 (0.309 sec)\n",
      "INFO:tensorflow:global_step/sec: 332.535\n",
      "INFO:tensorflow:loss = 0.6908136, step = 2400 (0.301 sec)\n",
      "INFO:tensorflow:global_step/sec: 296.107\n",
      "INFO:tensorflow:loss = 0.6639809, step = 2500 (0.337 sec)\n",
      "INFO:tensorflow:global_step/sec: 287.269\n",
      "INFO:tensorflow:loss = 0.67357945, step = 2600 (0.348 sec)\n",
      "INFO:tensorflow:global_step/sec: 295.076\n",
      "INFO:tensorflow:loss = 0.6605422, step = 2700 (0.340 sec)\n",
      "INFO:tensorflow:global_step/sec: 281.78\n",
      "INFO:tensorflow:loss = 0.6476769, step = 2800 (0.355 sec)\n",
      "INFO:tensorflow:global_step/sec: 319.092\n",
      "INFO:tensorflow:loss = 0.6430709, step = 2900 (0.314 sec)\n",
      "INFO:tensorflow:global_step/sec: 331.608\n",
      "INFO:tensorflow:loss = 0.6285185, step = 3000 (0.301 sec)\n",
      "INFO:tensorflow:global_step/sec: 313.468\n",
      "INFO:tensorflow:loss = 0.63262075, step = 3100 (0.320 sec)\n",
      "INFO:tensorflow:global_step/sec: 281.973\n",
      "INFO:tensorflow:loss = 0.6127807, step = 3200 (0.354 sec)\n",
      "INFO:tensorflow:global_step/sec: 269.663\n",
      "INFO:tensorflow:loss = 0.6000739, step = 3300 (0.371 sec)\n",
      "INFO:tensorflow:global_step/sec: 330.97\n",
      "INFO:tensorflow:loss = 0.58886206, step = 3400 (0.302 sec)\n",
      "INFO:tensorflow:global_step/sec: 309.847\n",
      "INFO:tensorflow:loss = 0.58415115, step = 3500 (0.323 sec)\n",
      "INFO:tensorflow:global_step/sec: 318.405\n",
      "INFO:tensorflow:loss = 0.58191544, step = 3600 (0.315 sec)\n",
      "INFO:tensorflow:global_step/sec: 331.148\n",
      "INFO:tensorflow:loss = 0.5722002, step = 3700 (0.302 sec)\n",
      "INFO:tensorflow:global_step/sec: 339.059\n",
      "INFO:tensorflow:loss = 0.5630146, step = 3800 (0.294 sec)\n",
      "INFO:tensorflow:global_step/sec: 351.493\n",
      "INFO:tensorflow:loss = 0.55885077, step = 3900 (0.284 sec)\n",
      "INFO:tensorflow:global_step/sec: 351.487\n",
      "INFO:tensorflow:loss = 0.54780865, step = 4000 (0.284 sec)\n",
      "INFO:tensorflow:global_step/sec: 359.402\n",
      "INFO:tensorflow:loss = 0.54139984, step = 4100 (0.278 sec)\n",
      "INFO:tensorflow:global_step/sec: 362.157\n",
      "INFO:tensorflow:loss = 0.53665894, step = 4200 (0.277 sec)\n",
      "INFO:tensorflow:global_step/sec: 350.66\n",
      "INFO:tensorflow:loss = 0.52140146, step = 4300 (0.284 sec)\n",
      "INFO:tensorflow:global_step/sec: 356.88\n",
      "INFO:tensorflow:loss = 0.5018074, step = 4400 (0.280 sec)\n",
      "INFO:tensorflow:global_step/sec: 354.999\n",
      "INFO:tensorflow:loss = 0.5110714, step = 4500 (0.282 sec)\n",
      "INFO:tensorflow:global_step/sec: 359.319\n",
      "INFO:tensorflow:loss = 0.49075198, step = 4600 (0.278 sec)\n",
      "INFO:tensorflow:global_step/sec: 285.748\n",
      "INFO:tensorflow:loss = 0.4888926, step = 4700 (0.350 sec)\n",
      "INFO:tensorflow:global_step/sec: 315.732\n",
      "INFO:tensorflow:loss = 0.48058027, step = 4800 (0.317 sec)\n",
      "INFO:tensorflow:global_step/sec: 315.034\n",
      "INFO:tensorflow:loss = 0.46577993, step = 4900 (0.317 sec)\n",
      "INFO:tensorflow:Saving checkpoints for 5000 into C:\\Users\\sunlin\\AppData\\Local\\Temp\\tmpk2x98t2q\\model.ckpt.\n",
      "INFO:tensorflow:Loss for final step: 0.4565484.\n"
     ]
    },
    {
     "data": {
      "text/plain": [
       "<tensorflow_estimator.python.estimator.canned.dnn.DNNClassifierV2 at 0x250428f2dc8>"
      ]
     },
     "execution_count": 11,
     "metadata": {},
     "output_type": "execute_result"
    }
   ],
   "source": [
    "# Train the Model.\n",
    "classifier.train(\n",
    "    input_fn=lambda: input_fn(train, train_y, training=True),\n",
    "    steps=5000)"
   ]
  },
  {
   "cell_type": "code",
   "execution_count": 12,
   "metadata": {},
   "outputs": [
    {
     "name": "stdout",
     "output_type": "stream",
     "text": [
      "INFO:tensorflow:Calling model_fn.\n",
      "WARNING:tensorflow:Layer dnn is casting an input tensor from dtype float64 to the layer's dtype of float32, which is new behavior in TensorFlow 2.  The layer has dtype float32 because it's dtype defaults to floatx.\n",
      "\n",
      "If you intended to run this layer in float32, you can safely ignore this warning. If in doubt, this warning is likely only an issue if you are porting a TensorFlow 1.X model to TensorFlow 2.\n",
      "\n",
      "To change all layers to have dtype float64 by default, call `tf.keras.backend.set_floatx('float64')`. To change just this layer, pass dtype='float64' to the layer constructor. If you are the author of this layer, you can disable autocasting by passing autocast=False to the base Layer constructor.\n",
      "\n",
      "INFO:tensorflow:Done calling model_fn.\n",
      "INFO:tensorflow:Starting evaluation at 2019-10-03T11:19:03Z\n",
      "INFO:tensorflow:Graph was finalized.\n",
      "INFO:tensorflow:Restoring parameters from C:\\Users\\sunlin\\AppData\\Local\\Temp\\tmpk2x98t2q\\model.ckpt-5000\n",
      "INFO:tensorflow:Running local_init_op.\n",
      "INFO:tensorflow:Done running local_init_op.\n",
      "INFO:tensorflow:Finished evaluation at 2019-10-03-11:19:04\n",
      "INFO:tensorflow:Saving dict for global step 5000: accuracy = 0.8, average_loss = 0.5503983, global_step = 5000, loss = 0.5503983\n",
      "INFO:tensorflow:Saving 'checkpoint_path' summary for global step 5000: C:\\Users\\sunlin\\AppData\\Local\\Temp\\tmpk2x98t2q\\model.ckpt-5000\n",
      "\n",
      "Test set accuracy: 0.800\n",
      "\n"
     ]
    }
   ],
   "source": [
    "eval_result = classifier.evaluate(\n",
    "    input_fn=lambda: input_fn(test, test_y, training=False))\n",
    "\n",
    "print('\\nTest set accuracy: {accuracy:0.3f}\\n'.format(**eval_result))"
   ]
  },
  {
   "cell_type": "code",
   "execution_count": 13,
   "metadata": {},
   "outputs": [],
   "source": [
    "# Generate predictions from the model\n",
    "expected = ['Setosa', 'Versicolor', 'Virginica']\n",
    "predict_x = {\n",
    "    'SepalLength': [5.1, 5.9, 6.9],\n",
    "    'SepalWidth': [3.3, 3.0, 3.1],\n",
    "    'PetalLength': [1.7, 4.2, 5.4],\n",
    "    'PetalWidth': [0.5, 1.5, 2.1],\n",
    "}\n",
    "\n",
    "def input_fn(features, batch_size=256):\n",
    "    \"\"\"An input function for prediction.\"\"\"\n",
    "    # Convert the inputs to a Dataset without labels.\n",
    "    return tf.data.Dataset.from_tensor_slices(dict(features)).batch(batch_size)\n",
    "\n",
    "predictions = classifier.predict(\n",
    "    input_fn=lambda: input_fn(predict_x))"
   ]
  },
  {
   "cell_type": "code",
   "execution_count": 14,
   "metadata": {},
   "outputs": [
    {
     "name": "stdout",
     "output_type": "stream",
     "text": [
      "INFO:tensorflow:Calling model_fn.\n",
      "INFO:tensorflow:Done calling model_fn.\n",
      "INFO:tensorflow:Graph was finalized.\n",
      "INFO:tensorflow:Restoring parameters from C:\\Users\\sunlin\\AppData\\Local\\Temp\\tmpk2x98t2q\\model.ckpt-5000\n",
      "INFO:tensorflow:Running local_init_op.\n",
      "INFO:tensorflow:Done running local_init_op.\n",
      "Prediction is \"Setosa\" (76.5%), expected \"Setosa\"\n",
      "Prediction is \"Virginica\" (43.5%), expected \"Versicolor\"\n",
      "Prediction is \"Virginica\" (60.8%), expected \"Virginica\"\n"
     ]
    }
   ],
   "source": [
    "for pred_dict, expec in zip(predictions, expected):\n",
    "    class_id = pred_dict['class_ids'][0]\n",
    "    probability = pred_dict['probabilities'][class_id]\n",
    "\n",
    "    print('Prediction is \"{}\" ({:.1f}%), expected \"{}\"'.format(\n",
    "        SPECIES[class_id], 100 * probability, expec))"
   ]
  },
  {
   "cell_type": "code",
   "execution_count": null,
   "metadata": {},
   "outputs": [],
   "source": []
  }
 ],
 "metadata": {
  "kernelspec": {
   "display_name": "Python 3",
   "language": "python",
   "name": "python3"
  },
  "language_info": {
   "codemirror_mode": {
    "name": "ipython",
    "version": 3
   },
   "file_extension": ".py",
   "mimetype": "text/x-python",
   "name": "python",
   "nbconvert_exporter": "python",
   "pygments_lexer": "ipython3",
   "version": "3.7.4"
  }
 },
 "nbformat": 4,
 "nbformat_minor": 4
}
